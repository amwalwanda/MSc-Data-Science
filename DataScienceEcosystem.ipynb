{
 "cells": [
  {
   "cell_type": "markdown",
   "id": "3c99d294",
   "metadata": {},
   "source": [
    "# Data Science Tools and Ecosystem #"
   ]
  },
  {
   "cell_type": "markdown",
   "id": "5f184be2",
   "metadata": {},
   "source": [
    "In this notebook, Data Science Tools and Ecosystem are summarized."
   ]
  },
  {
   "cell_type": "markdown",
   "id": "5d2dff92",
   "metadata": {},
   "source": [
    "**Objectives:**\n",
    "* List popular languages for Data Science \n",
    "* List libraries used by Data Scientists \n",
    "* List Data Science Tools used by Data scientists"
   ]
  },
  {
   "cell_type": "markdown",
   "id": "a1c6fe4e",
   "metadata": {},
   "source": [
    "Some of the popular languages that Data Scientists use are:\n",
    "\n",
    "1. Python\n",
    "2. R\n",
    "3. SQL"
   ]
  },
  {
   "cell_type": "markdown",
   "id": "96cf260c",
   "metadata": {},
   "source": [
    "Some of the commonly used libraries used by Data Scientists include:\n",
    "\n",
    "* Numpy\n",
    "* Scikit-learn\n",
    "* Matplotlib "
   ]
  },
  {
   "cell_type": "markdown",
   "id": "2a910038",
   "metadata": {},
   "source": [
    "| Data Science Tools |\n",
    "-------------------------------\n",
    "| Jupyter |\n",
    "| Jupyter Lab |\n",
    "| RStudio |"
   ]
  },
  {
   "cell_type": "markdown",
   "id": "42e8842b",
   "metadata": {},
   "source": [
    "### Below are a few examples of evaluating arithmetic expressions in Python ###"
   ]
  },
  {
   "cell_type": "code",
   "execution_count": 15,
   "id": "9243db06",
   "metadata": {},
   "outputs": [
    {
     "data": {
      "text/plain": [
       "17"
      ]
     },
     "execution_count": 15,
     "metadata": {},
     "output_type": "execute_result"
    }
   ],
   "source": [
    "#This a simple arithmetic expression to mutiply then add integers\n",
    "(3*4)+5 "
   ]
  },
  {
   "cell_type": "code",
   "execution_count": 16,
   "id": "ee32cf2e",
   "metadata": {},
   "outputs": [
    {
     "data": {
      "text/plain": [
       "3.3333333333333335"
      ]
     },
     "execution_count": 16,
     "metadata": {},
     "output_type": "execute_result"
    }
   ],
   "source": [
    "#This will convert 200 minutes to hours by diving by 60\n",
    "200/60\n"
   ]
  },
  {
   "cell_type": "markdown",
   "id": "1814faea",
   "metadata": {},
   "source": [
    "**Author**\n",
    "\n",
    "Alick Mwalwanda\n"
   ]
  }
 ],
 "metadata": {
  "kernelspec": {
   "display_name": "Python 3 (ipykernel)",
   "language": "python",
   "name": "python3"
  },
  "language_info": {
   "codemirror_mode": {
    "name": "ipython",
    "version": 3
   },
   "file_extension": ".py",
   "mimetype": "text/x-python",
   "name": "python",
   "nbconvert_exporter": "python",
   "pygments_lexer": "ipython3",
   "version": "3.11.7"
  }
 },
 "nbformat": 4,
 "nbformat_minor": 5
}
